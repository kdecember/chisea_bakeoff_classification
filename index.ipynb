{
 "cells": [
  {
   "cell_type": "markdown",
   "metadata": {},
   "source": [
    "## Classification Bakeoff\n"
   ]
  },
  {
   "cell_type": "code",
   "execution_count": 3,
   "metadata": {},
   "outputs": [],
   "source": [
    "import pandas as pd\n",
    "import numpy as np\n",
    "from sklearn.metrics import classification_report\n",
    "from sklearn.model_selection import train_test_split\n",
    "from sklearn.linear_model import LogisticRegression\n",
    "from sklearn.ensemble import RandomForestClassifier, GradientBoostingClassifier, StackingClassifier\n",
    "from sklearn.neighbors import KNeighborsClassifier\n",
    "from sklearn.preprocessing import StandardScaler, OneHotEncoder\n",
    "from sklearn.svm import SVC\n",
    "from sklearn.decomposition import PCA\n"
   ]
  },
  {
   "cell_type": "code",
   "execution_count": 4,
   "metadata": {},
   "outputs": [],
   "source": [
    "data = pd.read_csv('train_data.csv')\n",
    "data.drop(['ID'], axis=1, inplace=True)"
   ]
  },
  {
   "cell_type": "code",
   "execution_count": 5,
   "metadata": {},
   "outputs": [
    {
     "data": {
      "text/plain": [
       "Index(['LIMIT_BAL', 'SEX', 'EDUCATION', 'MARRIAGE', 'AGE', 'PAY_0', 'PAY_2',\n",
       "       'PAY_3', 'PAY_4', 'PAY_5', 'PAY_6', 'BILL_AMT1', 'BILL_AMT2',\n",
       "       'BILL_AMT3', 'BILL_AMT4', 'BILL_AMT5', 'BILL_AMT6', 'PAY_AMT1',\n",
       "       'PAY_AMT2', 'PAY_AMT3', 'PAY_AMT4', 'PAY_AMT5', 'PAY_AMT6',\n",
       "       'default payment next month'],\n",
       "      dtype='object')"
      ]
     },
     "execution_count": 5,
     "metadata": {},
     "output_type": "execute_result"
    }
   ],
   "source": [
    "data.columns"
   ]
  },
  {
   "cell_type": "code",
   "execution_count": 6,
   "metadata": {},
   "outputs": [
    {
     "data": {
      "text/plain": [
       "(23999, 24)"
      ]
     },
     "execution_count": 6,
     "metadata": {},
     "output_type": "execute_result"
    }
   ],
   "source": [
    "data.shape"
   ]
  },
  {
   "cell_type": "code",
   "execution_count": 7,
   "metadata": {},
   "outputs": [],
   "source": [
    "X = data.drop('default payment next month', axis=1)\n",
    "y = data['default payment next month']"
   ]
  },
  {
   "cell_type": "code",
   "execution_count": null,
   "metadata": {},
   "outputs": [],
   "source": [
    "data"
   ]
  },
  {
   "cell_type": "markdown",
   "metadata": {},
   "source": [
    "## First Bad Model"
   ]
  },
  {
   "cell_type": "code",
   "execution_count": 67,
   "metadata": {},
   "outputs": [],
   "source": [
    "Xbad = data['PAY_0']\n",
    "ybad = data['default payment next month']"
   ]
  },
  {
   "cell_type": "code",
   "execution_count": 68,
   "metadata": {},
   "outputs": [
    {
     "data": {
      "text/plain": [
       "LogisticRegression(C=1.0, class_weight=None, dual=False, fit_intercept=True,\n",
       "                   intercept_scaling=1, l1_ratio=None, max_iter=100,\n",
       "                   multi_class='auto', n_jobs=None, penalty='l2',\n",
       "                   random_state=None, solver='lbfgs', tol=0.0001, verbose=0,\n",
       "                   warm_start=False)"
      ]
     },
     "execution_count": 68,
     "metadata": {},
     "output_type": "execute_result"
    }
   ],
   "source": [
    "logreg = LogisticRegression()\n",
    "logreg.fit(np.array(Xbad).reshape(-1,1), ybad)"
   ]
  },
  {
   "cell_type": "code",
   "execution_count": 70,
   "metadata": {},
   "outputs": [
    {
     "name": "stdout",
     "output_type": "stream",
     "text": [
      "              precision    recall  f1-score   support\n",
      "\n",
      "           0       0.96      0.83      0.89     21501\n",
      "           1       0.33      0.70      0.45      2498\n",
      "\n",
      "    accuracy                           0.82     23999\n",
      "   macro avg       0.64      0.77      0.67     23999\n",
      "weighted avg       0.89      0.82      0.85     23999\n",
      "\n"
     ]
    }
   ],
   "source": [
    "print(classification_report(logreg.predict(np.array(Xbad).reshape(-1,1)), ybad))"
   ]
  },
  {
   "cell_type": "markdown",
   "metadata": {},
   "source": [
    "### Engineering"
   ]
  },
  {
   "cell_type": "code",
   "execution_count": 9,
   "metadata": {},
   "outputs": [],
   "source": [
    "# def engineer(df):\n",
    "#     df = df.copy()\n",
    "#     df['bill_total'] = df['BILL_AMT1'] + df['BILL_AMT2'] + df['BILL_AMT3'] + df['BILL_AMT4'] + df['BILL_AMT5'] + df['BILL_AMT6']\n",
    "#     df['pay_total'] = df['PAY_AMT1'] + df['PAY_AMT2'] + df['PAY_AMT3'] + df['PAY_AMT4'] + df['PAY_AMT5'] + df['PAY_AMT6']\n",
    "#     df['debt'] = df['bill_total'] - df['pay_total']\n",
    "#     df['months_behind'] = df['PAY_0'] + df['PAY_2'] + df['PAY_3'] + df['PAY_4'] + df['PAY_5'] + df['PAY_6']\n",
    "#     df['debt_ratio'] = df['debt'] / df['LIMIT_BAL']\n",
    "    \n",
    "#     ohe = OneHotEncoder(sparse = False)\n",
    "#     ohe_categories = pd.DataFrame(ohe.fit_transform(df[['PAY_0']]), columns = ohe.get_feature_names(['PAY_0']))\n",
    "#     df = pd.concat([df, ohe_categories], axis = 1)\n",
    "#     return df\n",
    "\n",
    "data = pd.read_csv('train_data.csv')\n",
    "data.drop(['ID'], axis=1, inplace=True)\n",
    "\n",
    "ohe = OneHotEncoder(sparse = False)\n",
    "ohe_categories = pd.DataFrame(ohe.fit_transform(data[['SEX', 'MARRIAGE', 'EDUCATION', 'PAY_0']]))\n",
    "X = pd.concat([X, ohe_categories], axis = 1)\n",
    "X['ratio'] = X['BILL_AMT1'] / X['LIMIT_BAL']"
   ]
  },
  {
   "cell_type": "code",
   "execution_count": 10,
   "metadata": {},
   "outputs": [],
   "source": [
    "X_train, X_test, y_train, y_test = train_test_split(X, y)"
   ]
  },
  {
   "cell_type": "code",
   "execution_count": 11,
   "metadata": {},
   "outputs": [
    {
     "data": {
      "text/html": [
       "<div>\n",
       "<style scoped>\n",
       "    .dataframe tbody tr th:only-of-type {\n",
       "        vertical-align: middle;\n",
       "    }\n",
       "\n",
       "    .dataframe tbody tr th {\n",
       "        vertical-align: top;\n",
       "    }\n",
       "\n",
       "    .dataframe thead th {\n",
       "        text-align: right;\n",
       "    }\n",
       "</style>\n",
       "<table border=\"1\" class=\"dataframe\">\n",
       "  <thead>\n",
       "    <tr style=\"text-align: right;\">\n",
       "      <th></th>\n",
       "      <th>LIMIT_BAL</th>\n",
       "      <th>SEX</th>\n",
       "      <th>EDUCATION</th>\n",
       "      <th>MARRIAGE</th>\n",
       "      <th>AGE</th>\n",
       "      <th>PAY_0</th>\n",
       "      <th>PAY_2</th>\n",
       "      <th>PAY_3</th>\n",
       "      <th>PAY_4</th>\n",
       "      <th>PAY_5</th>\n",
       "      <th>...</th>\n",
       "      <th>15</th>\n",
       "      <th>16</th>\n",
       "      <th>17</th>\n",
       "      <th>18</th>\n",
       "      <th>19</th>\n",
       "      <th>20</th>\n",
       "      <th>21</th>\n",
       "      <th>22</th>\n",
       "      <th>23</th>\n",
       "      <th>ratio</th>\n",
       "    </tr>\n",
       "  </thead>\n",
       "  <tbody>\n",
       "    <tr>\n",
       "      <td>5326</td>\n",
       "      <td>100000</td>\n",
       "      <td>1</td>\n",
       "      <td>1</td>\n",
       "      <td>2</td>\n",
       "      <td>32</td>\n",
       "      <td>0</td>\n",
       "      <td>0</td>\n",
       "      <td>0</td>\n",
       "      <td>0</td>\n",
       "      <td>2</td>\n",
       "      <td>...</td>\n",
       "      <td>1.0</td>\n",
       "      <td>0.0</td>\n",
       "      <td>0.0</td>\n",
       "      <td>0.0</td>\n",
       "      <td>0.0</td>\n",
       "      <td>0.0</td>\n",
       "      <td>0.0</td>\n",
       "      <td>0.0</td>\n",
       "      <td>0.0</td>\n",
       "      <td>0.838310</td>\n",
       "    </tr>\n",
       "    <tr>\n",
       "      <td>18251</td>\n",
       "      <td>80000</td>\n",
       "      <td>1</td>\n",
       "      <td>3</td>\n",
       "      <td>2</td>\n",
       "      <td>48</td>\n",
       "      <td>0</td>\n",
       "      <td>0</td>\n",
       "      <td>0</td>\n",
       "      <td>0</td>\n",
       "      <td>0</td>\n",
       "      <td>...</td>\n",
       "      <td>1.0</td>\n",
       "      <td>0.0</td>\n",
       "      <td>0.0</td>\n",
       "      <td>0.0</td>\n",
       "      <td>0.0</td>\n",
       "      <td>0.0</td>\n",
       "      <td>0.0</td>\n",
       "      <td>0.0</td>\n",
       "      <td>0.0</td>\n",
       "      <td>1.000025</td>\n",
       "    </tr>\n",
       "    <tr>\n",
       "      <td>962</td>\n",
       "      <td>90000</td>\n",
       "      <td>2</td>\n",
       "      <td>2</td>\n",
       "      <td>2</td>\n",
       "      <td>25</td>\n",
       "      <td>0</td>\n",
       "      <td>-1</td>\n",
       "      <td>-1</td>\n",
       "      <td>-1</td>\n",
       "      <td>-1</td>\n",
       "      <td>...</td>\n",
       "      <td>1.0</td>\n",
       "      <td>0.0</td>\n",
       "      <td>0.0</td>\n",
       "      <td>0.0</td>\n",
       "      <td>0.0</td>\n",
       "      <td>0.0</td>\n",
       "      <td>0.0</td>\n",
       "      <td>0.0</td>\n",
       "      <td>0.0</td>\n",
       "      <td>0.307311</td>\n",
       "    </tr>\n",
       "    <tr>\n",
       "      <td>9075</td>\n",
       "      <td>160000</td>\n",
       "      <td>2</td>\n",
       "      <td>2</td>\n",
       "      <td>1</td>\n",
       "      <td>60</td>\n",
       "      <td>-2</td>\n",
       "      <td>-2</td>\n",
       "      <td>-2</td>\n",
       "      <td>-2</td>\n",
       "      <td>-2</td>\n",
       "      <td>...</td>\n",
       "      <td>0.0</td>\n",
       "      <td>0.0</td>\n",
       "      <td>0.0</td>\n",
       "      <td>0.0</td>\n",
       "      <td>0.0</td>\n",
       "      <td>0.0</td>\n",
       "      <td>0.0</td>\n",
       "      <td>0.0</td>\n",
       "      <td>0.0</td>\n",
       "      <td>0.100375</td>\n",
       "    </tr>\n",
       "    <tr>\n",
       "      <td>8498</td>\n",
       "      <td>60000</td>\n",
       "      <td>2</td>\n",
       "      <td>3</td>\n",
       "      <td>3</td>\n",
       "      <td>48</td>\n",
       "      <td>0</td>\n",
       "      <td>0</td>\n",
       "      <td>2</td>\n",
       "      <td>2</td>\n",
       "      <td>-1</td>\n",
       "      <td>...</td>\n",
       "      <td>1.0</td>\n",
       "      <td>0.0</td>\n",
       "      <td>0.0</td>\n",
       "      <td>0.0</td>\n",
       "      <td>0.0</td>\n",
       "      <td>0.0</td>\n",
       "      <td>0.0</td>\n",
       "      <td>0.0</td>\n",
       "      <td>0.0</td>\n",
       "      <td>0.885267</td>\n",
       "    </tr>\n",
       "    <tr>\n",
       "      <td>...</td>\n",
       "      <td>...</td>\n",
       "      <td>...</td>\n",
       "      <td>...</td>\n",
       "      <td>...</td>\n",
       "      <td>...</td>\n",
       "      <td>...</td>\n",
       "      <td>...</td>\n",
       "      <td>...</td>\n",
       "      <td>...</td>\n",
       "      <td>...</td>\n",
       "      <td>...</td>\n",
       "      <td>...</td>\n",
       "      <td>...</td>\n",
       "      <td>...</td>\n",
       "      <td>...</td>\n",
       "      <td>...</td>\n",
       "      <td>...</td>\n",
       "      <td>...</td>\n",
       "      <td>...</td>\n",
       "      <td>...</td>\n",
       "      <td>...</td>\n",
       "    </tr>\n",
       "    <tr>\n",
       "      <td>15859</td>\n",
       "      <td>10000</td>\n",
       "      <td>1</td>\n",
       "      <td>3</td>\n",
       "      <td>1</td>\n",
       "      <td>41</td>\n",
       "      <td>1</td>\n",
       "      <td>4</td>\n",
       "      <td>3</td>\n",
       "      <td>2</td>\n",
       "      <td>0</td>\n",
       "      <td>...</td>\n",
       "      <td>0.0</td>\n",
       "      <td>1.0</td>\n",
       "      <td>0.0</td>\n",
       "      <td>0.0</td>\n",
       "      <td>0.0</td>\n",
       "      <td>0.0</td>\n",
       "      <td>0.0</td>\n",
       "      <td>0.0</td>\n",
       "      <td>0.0</td>\n",
       "      <td>1.071100</td>\n",
       "    </tr>\n",
       "    <tr>\n",
       "      <td>22670</td>\n",
       "      <td>70000</td>\n",
       "      <td>2</td>\n",
       "      <td>1</td>\n",
       "      <td>2</td>\n",
       "      <td>26</td>\n",
       "      <td>1</td>\n",
       "      <td>2</td>\n",
       "      <td>2</td>\n",
       "      <td>2</td>\n",
       "      <td>2</td>\n",
       "      <td>...</td>\n",
       "      <td>0.0</td>\n",
       "      <td>1.0</td>\n",
       "      <td>0.0</td>\n",
       "      <td>0.0</td>\n",
       "      <td>0.0</td>\n",
       "      <td>0.0</td>\n",
       "      <td>0.0</td>\n",
       "      <td>0.0</td>\n",
       "      <td>0.0</td>\n",
       "      <td>0.401514</td>\n",
       "    </tr>\n",
       "    <tr>\n",
       "      <td>4906</td>\n",
       "      <td>90000</td>\n",
       "      <td>1</td>\n",
       "      <td>2</td>\n",
       "      <td>1</td>\n",
       "      <td>31</td>\n",
       "      <td>0</td>\n",
       "      <td>0</td>\n",
       "      <td>0</td>\n",
       "      <td>0</td>\n",
       "      <td>0</td>\n",
       "      <td>...</td>\n",
       "      <td>1.0</td>\n",
       "      <td>0.0</td>\n",
       "      <td>0.0</td>\n",
       "      <td>0.0</td>\n",
       "      <td>0.0</td>\n",
       "      <td>0.0</td>\n",
       "      <td>0.0</td>\n",
       "      <td>0.0</td>\n",
       "      <td>0.0</td>\n",
       "      <td>0.781433</td>\n",
       "    </tr>\n",
       "    <tr>\n",
       "      <td>15179</td>\n",
       "      <td>180000</td>\n",
       "      <td>2</td>\n",
       "      <td>5</td>\n",
       "      <td>2</td>\n",
       "      <td>30</td>\n",
       "      <td>-2</td>\n",
       "      <td>-2</td>\n",
       "      <td>-2</td>\n",
       "      <td>-2</td>\n",
       "      <td>-2</td>\n",
       "      <td>...</td>\n",
       "      <td>0.0</td>\n",
       "      <td>0.0</td>\n",
       "      <td>0.0</td>\n",
       "      <td>0.0</td>\n",
       "      <td>0.0</td>\n",
       "      <td>0.0</td>\n",
       "      <td>0.0</td>\n",
       "      <td>0.0</td>\n",
       "      <td>0.0</td>\n",
       "      <td>0.000000</td>\n",
       "    </tr>\n",
       "    <tr>\n",
       "      <td>14715</td>\n",
       "      <td>100000</td>\n",
       "      <td>2</td>\n",
       "      <td>2</td>\n",
       "      <td>2</td>\n",
       "      <td>26</td>\n",
       "      <td>-1</td>\n",
       "      <td>0</td>\n",
       "      <td>0</td>\n",
       "      <td>0</td>\n",
       "      <td>0</td>\n",
       "      <td>...</td>\n",
       "      <td>0.0</td>\n",
       "      <td>0.0</td>\n",
       "      <td>0.0</td>\n",
       "      <td>0.0</td>\n",
       "      <td>0.0</td>\n",
       "      <td>0.0</td>\n",
       "      <td>0.0</td>\n",
       "      <td>0.0</td>\n",
       "      <td>0.0</td>\n",
       "      <td>0.537430</td>\n",
       "    </tr>\n",
       "  </tbody>\n",
       "</table>\n",
       "<p>17999 rows × 48 columns</p>\n",
       "</div>"
      ],
      "text/plain": [
       "       LIMIT_BAL  SEX  EDUCATION  MARRIAGE  AGE  PAY_0  PAY_2  PAY_3  PAY_4  \\\n",
       "5326      100000    1          1         2   32      0      0      0      0   \n",
       "18251      80000    1          3         2   48      0      0      0      0   \n",
       "962        90000    2          2         2   25      0     -1     -1     -1   \n",
       "9075      160000    2          2         1   60     -2     -2     -2     -2   \n",
       "8498       60000    2          3         3   48      0      0      2      2   \n",
       "...          ...  ...        ...       ...  ...    ...    ...    ...    ...   \n",
       "15859      10000    1          3         1   41      1      4      3      2   \n",
       "22670      70000    2          1         2   26      1      2      2      2   \n",
       "4906       90000    1          2         1   31      0      0      0      0   \n",
       "15179     180000    2          5         2   30     -2     -2     -2     -2   \n",
       "14715     100000    2          2         2   26     -1      0      0      0   \n",
       "\n",
       "       PAY_5  ...   15   16   17   18   19   20   21   22   23     ratio  \n",
       "5326       2  ...  1.0  0.0  0.0  0.0  0.0  0.0  0.0  0.0  0.0  0.838310  \n",
       "18251      0  ...  1.0  0.0  0.0  0.0  0.0  0.0  0.0  0.0  0.0  1.000025  \n",
       "962       -1  ...  1.0  0.0  0.0  0.0  0.0  0.0  0.0  0.0  0.0  0.307311  \n",
       "9075      -2  ...  0.0  0.0  0.0  0.0  0.0  0.0  0.0  0.0  0.0  0.100375  \n",
       "8498      -1  ...  1.0  0.0  0.0  0.0  0.0  0.0  0.0  0.0  0.0  0.885267  \n",
       "...      ...  ...  ...  ...  ...  ...  ...  ...  ...  ...  ...       ...  \n",
       "15859      0  ...  0.0  1.0  0.0  0.0  0.0  0.0  0.0  0.0  0.0  1.071100  \n",
       "22670      2  ...  0.0  1.0  0.0  0.0  0.0  0.0  0.0  0.0  0.0  0.401514  \n",
       "4906       0  ...  1.0  0.0  0.0  0.0  0.0  0.0  0.0  0.0  0.0  0.781433  \n",
       "15179     -2  ...  0.0  0.0  0.0  0.0  0.0  0.0  0.0  0.0  0.0  0.000000  \n",
       "14715      0  ...  0.0  0.0  0.0  0.0  0.0  0.0  0.0  0.0  0.0  0.537430  \n",
       "\n",
       "[17999 rows x 48 columns]"
      ]
     },
     "execution_count": 11,
     "metadata": {},
     "output_type": "execute_result"
    }
   ],
   "source": [
    "X_train"
   ]
  },
  {
   "cell_type": "code",
   "execution_count": 12,
   "metadata": {},
   "outputs": [
    {
     "name": "stdout",
     "output_type": "stream",
     "text": [
      "              precision    recall  f1-score   support\n",
      "\n",
      "           0       1.00      1.00      1.00     13986\n",
      "           1       1.00      1.00      1.00      4013\n",
      "\n",
      "    accuracy                           1.00     17999\n",
      "   macro avg       1.00      1.00      1.00     17999\n",
      "weighted avg       1.00      1.00      1.00     17999\n",
      "\n"
     ]
    }
   ],
   "source": [
    "features = [0,1,2,3,4,5,6,7,8,9,10,12,13,14,15,16,17,18,19,20,21,22,23, 'AGE', 'ratio', 'LIMIT_BAL', 'PAY_AMT1']\n",
    "\n",
    "X2_train = X_train[features]\n",
    "\n",
    "ss = StandardScaler()\n",
    "X2_train = ss.fit_transform(X2_train)\n",
    "\n",
    "pca = PCA()\n",
    "X2_train = pca.fit_transform(X2_train)\n",
    "\n",
    "model2 = RandomForestClassifier()\n",
    "model2.fit(X2_train, y_train)\n",
    "\n",
    "print(classification_report(y_train, model2.predict(X2_train)))\n"
   ]
  },
  {
   "cell_type": "code",
   "execution_count": 13,
   "metadata": {},
   "outputs": [
    {
     "name": "stdout",
     "output_type": "stream",
     "text": [
      "              precision    recall  f1-score   support\n",
      "\n",
      "           0       0.83      0.93      0.88      4705\n",
      "           1       0.57      0.32      0.41      1295\n",
      "\n",
      "    accuracy                           0.80      6000\n",
      "   macro avg       0.70      0.63      0.64      6000\n",
      "weighted avg       0.78      0.80      0.78      6000\n",
      "\n"
     ]
    }
   ],
   "source": [
    "X2_test = X_test[features]\n",
    "X2_test = ss.transform(X2_test)\n",
    "X2_test = pca.transform(X2_test)\n",
    "\n",
    "print(classification_report(y_test, model2.predict(X2_test)))"
   ]
  },
  {
   "cell_type": "markdown",
   "metadata": {},
   "source": [
    "## Model 3"
   ]
  },
  {
   "cell_type": "code",
   "execution_count": 99,
   "metadata": {},
   "outputs": [
    {
     "name": "stdout",
     "output_type": "stream",
     "text": [
      "      Iter       Train Loss   Remaining Time \n",
      "         1           0.9907           55.30s\n",
      "         2           0.9565           56.22s\n",
      "         3           0.9351           54.42s\n",
      "         4           0.9206           52.89s\n",
      "         5           0.9105           52.17s\n",
      "         6           0.9020           51.75s\n",
      "         7           0.8959           51.23s\n",
      "         8           0.8914           50.70s\n",
      "         9           0.8875           50.11s\n",
      "        10           0.8843           49.69s\n",
      "        20           0.8651           44.53s\n",
      "        30           0.8544           40.97s\n",
      "        40           0.8449           37.73s\n",
      "        50           0.8368           35.28s\n",
      "        60           0.8300           32.55s\n",
      "        70           0.8237           30.12s\n",
      "        80           0.8171           27.71s\n",
      "        90           0.8093           25.41s\n",
      "       100           0.8036           23.04s\n",
      "       200           0.7443            0.00s\n"
     ]
    },
    {
     "data": {
      "text/plain": [
       "GradientBoostingClassifier(ccp_alpha=0.0, criterion='friedman_mse', init=None,\n",
       "                           learning_rate=0.2, loss='deviance', max_depth=3,\n",
       "                           max_features=None, max_leaf_nodes=None,\n",
       "                           min_impurity_decrease=0.0, min_impurity_split=None,\n",
       "                           min_samples_leaf=1, min_samples_split=2,\n",
       "                           min_weight_fraction_leaf=0.0, n_estimators=200,\n",
       "                           n_iter_no_change=None, presort='deprecated',\n",
       "                           random_state=None, subsample=1.0, tol=0.0001,\n",
       "                           validation_fraction=0.1, verbose=1,\n",
       "                           warm_start=False)"
      ]
     },
     "execution_count": 99,
     "metadata": {},
     "output_type": "execute_result"
    }
   ],
   "source": [
    "gbc = GradientBoostingClassifier(n_estimators=200, learning_rate=.2, min_samples_split=2, verbose=1)\n",
    "gbc.fit(X2_train, y_train)"
   ]
  },
  {
   "cell_type": "code",
   "execution_count": 100,
   "metadata": {},
   "outputs": [
    {
     "name": "stdout",
     "output_type": "stream",
     "text": [
      "              precision    recall  f1-score   support\n",
      "\n",
      "           0       0.85      0.97      0.91     14028\n",
      "           1       0.79      0.42      0.55      3971\n",
      "\n",
      "    accuracy                           0.85     17999\n",
      "   macro avg       0.82      0.69      0.73     17999\n",
      "weighted avg       0.84      0.85      0.83     17999\n",
      "\n"
     ]
    }
   ],
   "source": [
    "print(classification_report(y_train, gbc.predict(X2_train)))"
   ]
  },
  {
   "cell_type": "code",
   "execution_count": 101,
   "metadata": {},
   "outputs": [
    {
     "name": "stdout",
     "output_type": "stream",
     "text": [
      "              precision    recall  f1-score   support\n",
      "\n",
      "           0       0.83      0.95      0.88      4663\n",
      "           1       0.63      0.33      0.43      1337\n",
      "\n",
      "    accuracy                           0.81      6000\n",
      "   macro avg       0.73      0.64      0.66      6000\n",
      "weighted avg       0.79      0.81      0.78      6000\n",
      "\n"
     ]
    }
   ],
   "source": [
    "print(classification_report(y_test, gbc.predict(X2_test)))"
   ]
  },
  {
   "cell_type": "markdown",
   "metadata": {},
   "source": [
    "## Model 4"
   ]
  },
  {
   "cell_type": "code",
   "execution_count": 89,
   "metadata": {},
   "outputs": [
    {
     "name": "stdout",
     "output_type": "stream",
     "text": [
      "              precision    recall  f1-score   support\n",
      "\n",
      "           0       0.83      0.96      0.89     14028\n",
      "           1       0.69      0.33      0.44      3971\n",
      "\n",
      "    accuracy                           0.82     17999\n",
      "   macro avg       0.76      0.64      0.67     17999\n",
      "weighted avg       0.80      0.82      0.79     17999\n",
      "\n"
     ]
    }
   ],
   "source": [
    "model4 = LogisticRegression()\n",
    "model4.fit(X2_train, y_train)\n",
    "\n",
    "print(classification_report(y_train, model4.predict(X2_train)))"
   ]
  },
  {
   "cell_type": "code",
   "execution_count": 92,
   "metadata": {},
   "outputs": [
    {
     "name": "stdout",
     "output_type": "stream",
     "text": [
      "              precision    recall  f1-score   support\n",
      "\n",
      "           0       0.83      0.96      0.89      4663\n",
      "           1       0.71      0.32      0.44      1337\n",
      "\n",
      "    accuracy                           0.82      6000\n",
      "   macro avg       0.77      0.64      0.67      6000\n",
      "weighted avg       0.81      0.82      0.79      6000\n",
      "\n"
     ]
    }
   ],
   "source": [
    "print(classification_report(y_test, model4.predict(X2_test)))"
   ]
  },
  {
   "cell_type": "markdown",
   "metadata": {},
   "source": [
    "## Model 5"
   ]
  },
  {
   "cell_type": "code",
   "execution_count": 14,
   "metadata": {},
   "outputs": [
    {
     "name": "stderr",
     "output_type": "stream",
     "text": [
      "[Parallel(n_jobs=1)]: Using backend SequentialBackend with 1 concurrent workers.\n",
      "[Parallel(n_jobs=1)]: Done   5 out of   5 | elapsed:    4.2s finished\n",
      "[Parallel(n_jobs=1)]: Using backend SequentialBackend with 1 concurrent workers.\n",
      "[Parallel(n_jobs=1)]: Done   5 out of   5 | elapsed:   48.6s finished\n",
      "[Parallel(n_jobs=1)]: Using backend SequentialBackend with 1 concurrent workers.\n",
      "[Parallel(n_jobs=1)]: Done   5 out of   5 | elapsed:    1.2s finished\n",
      "[Parallel(n_jobs=1)]: Using backend SequentialBackend with 1 concurrent workers.\n",
      "[Parallel(n_jobs=1)]: Done   5 out of   5 | elapsed:  1.2min finished\n"
     ]
    },
    {
     "name": "stdout",
     "output_type": "stream",
     "text": [
      "              precision    recall  f1-score   support\n",
      "\n",
      "           0       0.84      0.96      0.89     13986\n",
      "           1       0.72      0.34      0.47      4013\n",
      "\n",
      "    accuracy                           0.82     17999\n",
      "   macro avg       0.78      0.65      0.68     17999\n",
      "weighted avg       0.81      0.82      0.80     17999\n",
      "\n"
     ]
    }
   ],
   "source": [
    "estimators = [('knn', KNeighborsClassifier(n_neighbors = 20)), ('rf', RandomForestClassifier(n_estimators = 100)),('log', LogisticRegression(solver = 'liblinear')),('grad', GradientBoostingClassifier())]\n",
    "\n",
    "stack = StackingClassifier(estimators = estimators, final_estimator = LogisticRegression(), cv = 5, verbose=1)\n",
    "stack.fit(X2_train, y_train)\n",
    "\n",
    "print(classification_report(y_train, stack.predict(X2_train)))"
   ]
  },
  {
   "cell_type": "code",
   "execution_count": 15,
   "metadata": {},
   "outputs": [
    {
     "name": "stdout",
     "output_type": "stream",
     "text": [
      "              precision    recall  f1-score   support\n",
      "\n",
      "           0       0.84      0.96      0.89      4705\n",
      "           1       0.68      0.31      0.43      1295\n",
      "\n",
      "    accuracy                           0.82      6000\n",
      "   macro avg       0.76      0.64      0.66      6000\n",
      "weighted avg       0.80      0.82      0.79      6000\n",
      "\n"
     ]
    }
   ],
   "source": [
    "print(classification_report(y_test, stack.predict(X2_test)))"
   ]
  },
  {
   "cell_type": "markdown",
   "metadata": {},
   "source": [
    "## tweak Model 5"
   ]
  },
  {
   "cell_type": "code",
   "execution_count": 16,
   "metadata": {},
   "outputs": [
    {
     "name": "stderr",
     "output_type": "stream",
     "text": [
      "[Parallel(n_jobs=1)]: Using backend SequentialBackend with 1 concurrent workers.\n",
      "[Parallel(n_jobs=1)]: Done   5 out of   5 | elapsed:    0.9s finished\n",
      "[Parallel(n_jobs=1)]: Using backend SequentialBackend with 1 concurrent workers.\n",
      "[Parallel(n_jobs=1)]: Done   5 out of   5 | elapsed:    9.9s finished\n",
      "[Parallel(n_jobs=1)]: Using backend SequentialBackend with 1 concurrent workers.\n",
      "[Parallel(n_jobs=1)]: Done   5 out of   5 | elapsed:    0.2s finished\n",
      "[Parallel(n_jobs=1)]: Using backend SequentialBackend with 1 concurrent workers.\n",
      "[Parallel(n_jobs=1)]: Done   5 out of   5 | elapsed:   12.5s finished\n"
     ]
    },
    {
     "name": "stdout",
     "output_type": "stream",
     "text": [
      "              precision    recall  f1-score   support\n",
      "\n",
      "           0       0.84      0.96      0.90     13986\n",
      "           1       0.75      0.37      0.50      4013\n",
      "\n",
      "    accuracy                           0.83     17999\n",
      "   macro avg       0.79      0.67      0.70     17999\n",
      "weighted avg       0.82      0.83      0.81     17999\n",
      "\n"
     ]
    }
   ],
   "source": [
    "features2 = [14,15,16,17,18,19,20,21,22,23, 'ratio', 'LIMIT_BAL', 'PAY_AMT1', 'PAY_AMT2']\n",
    "X3_train = X_train[features2]\n",
    "\n",
    "stack.fit(X3_train, y_train)\n",
    "print(classification_report(y_train, stack.predict(X3_train)))"
   ]
  },
  {
   "cell_type": "code",
   "execution_count": 17,
   "metadata": {},
   "outputs": [
    {
     "name": "stdout",
     "output_type": "stream",
     "text": [
      "              precision    recall  f1-score   support\n",
      "\n",
      "           0       0.84      0.96      0.89      4705\n",
      "           1       0.68      0.33      0.44      1295\n",
      "\n",
      "    accuracy                           0.82      6000\n",
      "   macro avg       0.76      0.64      0.67      6000\n",
      "weighted avg       0.80      0.82      0.80      6000\n",
      "\n"
     ]
    }
   ],
   "source": [
    "X3_test = X_test[features2]\n",
    "\n",
    "print(classification_report(y_test, stack.predict(X3_test)))"
   ]
  },
  {
   "cell_type": "code",
   "execution_count": null,
   "metadata": {},
   "outputs": [],
   "source": []
  },
  {
   "cell_type": "markdown",
   "metadata": {},
   "source": [
    "## Experimentation"
   ]
  },
  {
   "cell_type": "code",
   "execution_count": 18,
   "metadata": {},
   "outputs": [
    {
     "data": {
      "text/plain": [
       "SVC(C=1.0, break_ties=False, cache_size=200, class_weight=None, coef0=0.0,\n",
       "    decision_function_shape='ovr', degree=3, gamma='scale', kernel='rbf',\n",
       "    max_iter=-1, probability=False, random_state=None, shrinking=True,\n",
       "    tol=0.001, verbose=False)"
      ]
     },
     "execution_count": 18,
     "metadata": {},
     "output_type": "execute_result"
    }
   ],
   "source": [
    "svc = SVC()\n",
    "svc.fit(X3_train, y_train)"
   ]
  },
  {
   "cell_type": "code",
   "execution_count": 19,
   "metadata": {},
   "outputs": [
    {
     "name": "stdout",
     "output_type": "stream",
     "text": [
      "              precision    recall  f1-score   support\n",
      "\n",
      "           0       0.78      1.00      0.87     13986\n",
      "           1       0.00      0.00      0.00      4013\n",
      "\n",
      "    accuracy                           0.78     17999\n",
      "   macro avg       0.39      0.50      0.44     17999\n",
      "weighted avg       0.60      0.78      0.68     17999\n",
      "\n"
     ]
    },
    {
     "name": "stderr",
     "output_type": "stream",
     "text": [
      "/Users/kyledecember1/opt/anaconda3/envs/learn-env/lib/python3.6/site-packages/sklearn/metrics/_classification.py:1272: UndefinedMetricWarning: Precision and F-score are ill-defined and being set to 0.0 in labels with no predicted samples. Use `zero_division` parameter to control this behavior.\n",
      "  _warn_prf(average, modifier, msg_start, len(result))\n"
     ]
    }
   ],
   "source": [
    "print(classification_report(y_train, svc.predict(X3_train)))"
   ]
  },
  {
   "cell_type": "code",
   "execution_count": 20,
   "metadata": {},
   "outputs": [
    {
     "name": "stdout",
     "output_type": "stream",
     "text": [
      "              precision    recall  f1-score   support\n",
      "\n",
      "           0       0.84      0.96      0.89      4705\n",
      "           1       0.68      0.33      0.44      1295\n",
      "\n",
      "    accuracy                           0.82      6000\n",
      "   macro avg       0.76      0.64      0.67      6000\n",
      "weighted avg       0.80      0.82      0.80      6000\n",
      "\n"
     ]
    }
   ],
   "source": [
    "print(classification_report(y_test, stack.predict(X3_test)))"
   ]
  },
  {
   "cell_type": "code",
   "execution_count": null,
   "metadata": {},
   "outputs": [],
   "source": []
  },
  {
   "cell_type": "markdown",
   "metadata": {},
   "source": [
    "## Export Preds\n"
   ]
  },
  {
   "cell_type": "code",
   "execution_count": 21,
   "metadata": {},
   "outputs": [],
   "source": [
    "holdout = pd.read_csv('test_features.csv')\n",
    "holdout.drop(['ID'], axis=1, inplace=True)"
   ]
  },
  {
   "cell_type": "code",
   "execution_count": 22,
   "metadata": {},
   "outputs": [],
   "source": [
    "\n",
    "ohe = OneHotEncoder(sparse = False)\n",
    "ohe_categories = pd.DataFrame(ohe.fit_transform(holdout[['SEX', 'MARRIAGE', 'EDUCATION', 'PAY_0']]))\n",
    "holdout = pd.concat([holdout, ohe_categories], axis = 1)\n",
    "holdout['ratio'] = holdout['BILL_AMT1'] / holdout['LIMIT_BAL']\n",
    "\n",
    "features2 = [14,15,16,17,18,19,20,21,22,23, 'ratio', 'LIMIT_BAL', 'PAY_AMT1', 'PAY_AMT2']\n",
    "\n",
    "holdout = holdout[features2]"
   ]
  },
  {
   "cell_type": "code",
   "execution_count": 23,
   "metadata": {},
   "outputs": [],
   "source": []
  },
  {
   "cell_type": "code",
   "execution_count": 24,
   "metadata": {},
   "outputs": [],
   "source": [
    "preds.to_csv('credit_default_preds_kdmb.csv', index=False, header=False)"
   ]
  },
  {
   "cell_type": "code",
   "execution_count": null,
   "metadata": {},
   "outputs": [],
   "source": []
  }
 ],
 "metadata": {
  "kernelspec": {
   "display_name": "learn-env",
   "language": "python",
   "name": "learn-env"
  },
  "language_info": {
   "codemirror_mode": {
    "name": "ipython",
    "version": 3
   },
   "file_extension": ".py",
   "mimetype": "text/x-python",
   "name": "python",
   "nbconvert_exporter": "python",
   "pygments_lexer": "ipython3",
   "version": "3.6.9"
  }
 },
 "nbformat": 4,
 "nbformat_minor": 4
}
